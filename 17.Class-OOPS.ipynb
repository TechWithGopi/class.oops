{
 "cells": [
  {
   "cell_type": "code",
   "execution_count": null,
   "metadata": {},
   "outputs": [],
   "source": [
    "class Threefunction():\n",
    "    def OddEven():\n",
    "        number = int(input(\"Enter a number: \"))\n",
    "        if number % 2 == 0:\n",
    "            print(number ,\"is Even number\")\n",
    "            message = number,\"is Even number\"\n",
    "        else:\n",
    "            print(\"Not Even number\")\n",
    "            message = \"Not Even number\"\n",
    "        return message\n",
    "    \n",
    "    \n",
    "    \n",
    "    def age():\n",
    "        name = input(\"Your Gender: \")\n",
    "        age = int(input(\"Your Age: \"))\n",
    "        if age > 21:\n",
    "            print(\"ELIGIBLE\")\n",
    "            message = \"ELIGIBLE\"\n",
    "        else:\n",
    "            print(\"NOT ELIGIBLE\")\n",
    "            message = \"NOT ELIGIBLE\"\n",
    "\n",
    "        return message\n",
    "    \n",
    "    def LoginID():\n",
    "        \n",
    "        name = input(\"Your name: \")\n",
    "        mobile = int(input(\"Your mobile number: \"))\n",
    "        if name == \"gopi\" and mobile == 8888567854 :\n",
    "            print(\"Login Successfully\")\n",
    "            message = \"Login Successfully\"\n",
    "        else:\n",
    "            print(\"Retry\")\n",
    "            message = \"Retry\"\n",
    "\n",
    "        return message\n",
    "     \n",
    "    \n",
    "    \n",
    "   "
   ]
  },
  {
   "cell_type": "code",
   "execution_count": 2,
   "metadata": {},
   "outputs": [
    {
     "name": "stdout",
     "output_type": "stream",
     "text": [
      "Your name: gopi\n",
      "Your mobile number: 8888567854\n",
      "Login Successfully\n"
     ]
    },
    {
     "data": {
      "text/plain": [
       "'Login Successfully'"
      ]
     },
     "execution_count": 2,
     "metadata": {},
     "output_type": "execute_result"
    }
   ],
   "source": [
    "Threefunction.LoginID()"
   ]
  },
  {
   "cell_type": "code",
   "execution_count": null,
   "metadata": {},
   "outputs": [],
   "source": []
  }
 ],
 "metadata": {
  "kernelspec": {
   "display_name": "Python 3",
   "language": "python",
   "name": "python3"
  },
  "language_info": {
   "codemirror_mode": {
    "name": "ipython",
    "version": 3
   },
   "file_extension": ".py",
   "mimetype": "text/x-python",
   "name": "python",
   "nbconvert_exporter": "python",
   "pygments_lexer": "ipython3",
   "version": "3.7.4"
  }
 },
 "nbformat": 4,
 "nbformat_minor": 2
}
